{
 "cells": [
  {
   "cell_type": "code",
   "execution_count": 1,
   "metadata": {},
   "outputs": [],
   "source": [
    "import asyncio \n",
    "from confluent_kafka import Consumer, Producer\n",
    "from confluent_kafka.admin import AdminClient, NewTopic\n",
    "BROKER_URL = \"PLAINTEXT://localhost:9092\""
   ]
  },
  {
   "cell_type": "code",
   "execution_count": 2,
   "metadata": {},
   "outputs": [],
   "source": [
    "client = AdminClient({\"bootstrap.servers\": BROKER_URL})"
   ]
  },
  {
   "cell_type": "code",
   "execution_count": 11,
   "metadata": {},
   "outputs": [],
   "source": [
    "topic_meta = client.list_topics(timeout=5)"
   ]
  },
  {
   "cell_type": "code",
   "execution_count": 12,
   "metadata": {
    "scrolled": true
   },
   "outputs": [
    {
     "data": {
      "text/plain": [
       "{'_schemas': TopicMetadata(_schemas, 1 partitions),\n",
       " 'connect-config': TopicMetadata(connect-config, 1 partitions),\n",
       " '_confluent-ksql-ksql_service_docker_command_topic': TopicMetadata(_confluent-ksql-ksql_service_docker_command_topic, 1 partitions),\n",
       " 'my-first-python-topic': TopicMetadata(my-first-python-topic, 1 partitions),\n",
       " 'connect-status': TopicMetadata(connect-status, 5 partitions),\n",
       " 'connect-offset': TopicMetadata(connect-offset, 25 partitions),\n",
       " '__consumer_offsets': TopicMetadata(__consumer_offsets, 50 partitions),\n",
       " 'org.udacity.lesson2.views': TopicMetadata(org.udacity.lesson2.views, 10 partitions),\n",
       " '__confluent.support.metrics': TopicMetadata(__confluent.support.metrics, 1 partitions),\n",
       " 'org.udacity.exercise3.purchases': TopicMetadata(org.udacity.exercise3.purchases, 5 partitions),\n",
       " 'data_score': TopicMetadata(data_score, 5 partitions)}"
      ]
     },
     "execution_count": 12,
     "metadata": {},
     "output_type": "execute_result"
    }
   ],
   "source": [
    "topic_meta.topics"
   ]
  },
  {
   "cell_type": "code",
   "execution_count": 10,
   "metadata": {},
   "outputs": [
    {
     "data": {
      "text/plain": [
       "False"
      ]
     },
     "execution_count": 10,
     "metadata": {},
     "output_type": "execute_result"
    }
   ],
   "source": [
    "topic_meta.topics.get(\"org.udacity.lesson2.views\") is None"
   ]
  },
  {
   "cell_type": "code",
   "execution_count": 13,
   "metadata": {},
   "outputs": [
    {
     "data": {
      "text/plain": [
       "dict_values([TopicMetadata(_schemas, 1 partitions), TopicMetadata(connect-config, 1 partitions), TopicMetadata(_confluent-ksql-ksql_service_docker_command_topic, 1 partitions), TopicMetadata(my-first-python-topic, 1 partitions), TopicMetadata(connect-status, 5 partitions), TopicMetadata(connect-offset, 25 partitions), TopicMetadata(__consumer_offsets, 50 partitions), TopicMetadata(org.udacity.lesson2.views, 10 partitions), TopicMetadata(__confluent.support.metrics, 1 partitions), TopicMetadata(org.udacity.exercise3.purchases, 5 partitions), TopicMetadata(data_score, 5 partitions)])"
      ]
     },
     "execution_count": 13,
     "metadata": {},
     "output_type": "execute_result"
    }
   ],
   "source": [
    "topic_meta.topics.values()"
   ]
  },
  {
   "cell_type": "code",
   "execution_count": 15,
   "metadata": {},
   "outputs": [],
   "source": [
    "a = set(t.topic for t in iter(topic_meta.topics.values()))"
   ]
  },
  {
   "cell_type": "code",
   "execution_count": 16,
   "metadata": {},
   "outputs": [
    {
     "data": {
      "text/plain": [
       "{'__confluent.support.metrics',\n",
       " '__consumer_offsets',\n",
       " '_confluent-ksql-ksql_service_docker_command_topic',\n",
       " '_schemas',\n",
       " 'connect-config',\n",
       " 'connect-offset',\n",
       " 'connect-status',\n",
       " 'data_score',\n",
       " 'my-first-python-topic',\n",
       " 'org.udacity.exercise3.purchases',\n",
       " 'org.udacity.lesson2.views'}"
      ]
     },
     "execution_count": 16,
     "metadata": {},
     "output_type": "execute_result"
    }
   ],
   "source": [
    "a"
   ]
  },
  {
   "cell_type": "code",
   "execution_count": null,
   "metadata": {},
   "outputs": [],
   "source": []
  }
 ],
 "metadata": {
  "kernelspec": {
   "display_name": "Python 3",
   "language": "python",
   "name": "python3"
  },
  "language_info": {
   "codemirror_mode": {
    "name": "ipython",
    "version": 3
   },
   "file_extension": ".py",
   "mimetype": "text/x-python",
   "name": "python",
   "nbconvert_exporter": "python",
   "pygments_lexer": "ipython3",
   "version": "3.7.7"
  }
 },
 "nbformat": 4,
 "nbformat_minor": 4
}
